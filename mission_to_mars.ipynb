{
 "cells": [
  {
   "cell_type": "markdown",
   "id": "manufactured-professional",
   "metadata": {},
   "source": [
    "# HW12 - Misson to Mars\n",
    "\n",
    "In this assignment, you will build a web application that scrapes various websites for data related to the Mission to Mars and displays the information in a single HTML page. The following outlines what you need to do."
   ]
  },
  {
   "cell_type": "markdown",
   "id": "phantom-angel",
   "metadata": {},
   "source": [
    "## Step 1 - Scraping\n",
    "\n",
    "<hr>"
   ]
  },
  {
   "cell_type": "markdown",
   "id": "manual-pastor",
   "metadata": {},
   "source": [
    "### NASA Mars News"
   ]
  },
  {
   "cell_type": "code",
   "execution_count": 2,
   "id": "square-contract",
   "metadata": {},
   "outputs": [],
   "source": [
    "# Dependencies\n",
    "from bs4 import BeautifulSoup as bs\n",
    "# import requests\n",
    "from splinter import Browser\n",
    "from webdriver_manager.chrome import ChromeDriverManager\n",
    "import pandas as pd"
   ]
  },
  {
   "cell_type": "code",
   "execution_count": 2,
   "id": "worth-level",
   "metadata": {},
   "outputs": [],
   "source": [
    "# news_url = 'https://mars.nasa.gov/news'\n",
    "# response_news = requests.get(news_url)\n",
    "# soup_news = bs(response_news.text, 'html.parser')"
   ]
  },
  {
   "cell_type": "code",
   "execution_count": 3,
   "id": "cutting-animation",
   "metadata": {},
   "outputs": [
    {
     "name": "stderr",
     "output_type": "stream",
     "text": [
      "[WDM] - ====== WebDriver manager ======\n"
     ]
    },
    {
     "name": "stdout",
     "output_type": "stream",
     "text": [
      "\n",
      "\n"
     ]
    },
    {
     "name": "stderr",
     "output_type": "stream",
     "text": [
      "[WDM] - Current google-chrome version is 89.0.4389\n",
      "[WDM] - Get LATEST driver version for 89.0.4389\n",
      "[WDM] - Driver [/Users/ZTC/.wdm/drivers/chromedriver/mac64/89.0.4389.23/chromedriver] found in cache\n"
     ]
    }
   ],
   "source": [
    "# Splinter setup\n",
    "executable_path = {'executable_path': ChromeDriverManager().install()}\n",
    "browser = Browser('chrome', **executable_path, headless=False)"
   ]
  },
  {
   "cell_type": "code",
   "execution_count": 4,
   "id": "facial-jerusalem",
   "metadata": {},
   "outputs": [],
   "source": [
    "# Navigate browser\n",
    "news_url = 'https://mars.nasa.gov/news'\n",
    "browser.visit(news_url)"
   ]
  },
  {
   "cell_type": "markdown",
   "id": "interior-fleet",
   "metadata": {},
   "source": [
    "Collect the latest new article info."
   ]
  },
  {
   "cell_type": "code",
   "execution_count": 5,
   "id": "human-taiwan",
   "metadata": {},
   "outputs": [],
   "source": [
    "news_html = browser.html\n",
    "soup_news = bs(news_html, \"html.parser\")"
   ]
  },
  {
   "cell_type": "code",
   "execution_count": 10,
   "id": "tender-piece",
   "metadata": {},
   "outputs": [],
   "source": [
    "# Scrape results\n",
    "results = soup_news.find_all('li', class_='slide')\n",
    "\n",
    "latest_news_title = results[0].find('div', class_='content_title')\n",
    "latest_news_body = results[0].find('div', class_='article_teaser_body')"
   ]
  },
  {
   "cell_type": "code",
   "execution_count": 11,
   "id": "rapid-relief",
   "metadata": {},
   "outputs": [],
   "source": [
    "news_title = latest_news_title.text\n",
    "news_p = latest_news_body.text\n",
    "news_link = latest_news_title.a['href']"
   ]
  },
  {
   "cell_type": "code",
   "execution_count": 12,
   "id": "loose-first",
   "metadata": {},
   "outputs": [
    {
     "name": "stdout",
     "output_type": "stream",
     "text": [
      "Another First: Perseverance Captures the Sounds of Driving on Mars\n",
      "NASA’s newest rover recorded audio of itself crunching over the surface of the Red Planet, adding a whole new dimension to Mars exploration.\n",
      "https://mars.nasa.gov/news/8892/another-first-perseverance-captures-the-sounds-of-driving-on-mars/\n"
     ]
    }
   ],
   "source": [
    "# Check news title and paragraph is scrapped correctly and reflects the latest news article\n",
    "print(news_title)\n",
    "print(news_p)\n",
    "news_link = 'https://mars.nasa.gov' + news_link\n",
    "print(news_link)"
   ]
  },
  {
   "cell_type": "markdown",
   "id": "visible-double",
   "metadata": {},
   "source": [
    "### JPL Mars Space Images - Featured Image"
   ]
  },
  {
   "cell_type": "code",
   "execution_count": 9,
   "id": "unique-antigua",
   "metadata": {},
   "outputs": [],
   "source": [
    "# Navigate browser\n",
    "jpl_url = 'https://data-class-jpl-space.s3.amazonaws.com/JPL_Space/index.html'\n",
    "browser.visit(jpl_url)"
   ]
  },
  {
   "cell_type": "markdown",
   "id": "plain-evans",
   "metadata": {},
   "source": [
    "Get the URL of the current featured image."
   ]
  },
  {
   "cell_type": "code",
   "execution_count": 10,
   "id": "perfect-hungarian",
   "metadata": {},
   "outputs": [
    {
     "data": {
      "text/plain": [
       "'https://data-class-jpl-space.s3.amazonaws.com/JPL_Space/image/featured/mars3.jpg'"
      ]
     },
     "execution_count": 10,
     "metadata": {},
     "output_type": "execute_result"
    }
   ],
   "source": [
    "jpl_html = browser.html\n",
    "soup_jpl = bs(jpl_html, 'html.parser')\n",
    "\n",
    "# Find the anchor tag of the featured image\n",
    "featured_img = soup_jpl.find_all('a', class_='showimg')[0]['href']\n",
    "\n",
    "featured_image_url = jpl_url.replace('index.html', featured_img)\n",
    "featured_image_url"
   ]
  },
  {
   "cell_type": "markdown",
   "id": "qualified-presentation",
   "metadata": {},
   "source": [
    "### Mars Facts"
   ]
  },
  {
   "cell_type": "markdown",
   "id": "genuine-impression",
   "metadata": {},
   "source": [
    "Scrape the table on Mars Facts webpage containing facts about the planet including Diameter, Mass, etc."
   ]
  },
  {
   "cell_type": "code",
   "execution_count": 11,
   "id": "juvenile-slide",
   "metadata": {},
   "outputs": [
    {
     "data": {
      "text/plain": [
       "[                      0                              1\n",
       " 0  Equatorial Diameter:                       6,792 km\n",
       " 1       Polar Diameter:                       6,752 km\n",
       " 2                 Mass:  6.39 × 10^23 kg (0.11 Earths)\n",
       " 3                Moons:            2 (Phobos & Deimos)\n",
       " 4       Orbit Distance:       227,943,824 km (1.38 AU)\n",
       " 5         Orbit Period:           687 days (1.9 years)\n",
       " 6  Surface Temperature:                   -87 to -5 °C\n",
       " 7         First Record:              2nd millennium BC\n",
       " 8          Recorded By:           Egyptian astronomers,\n",
       "   Mars - Earth Comparison             Mars            Earth\n",
       " 0               Diameter:         6,779 km        12,742 km\n",
       " 1                   Mass:  6.39 × 10^23 kg  5.97 × 10^24 kg\n",
       " 2                  Moons:                2                1\n",
       " 3      Distance from Sun:   227,943,824 km   149,598,262 km\n",
       " 4         Length of Year:   687 Earth days      365.24 days\n",
       " 5            Temperature:     -87 to -5 °C      -88 to 58°C,\n",
       "                       0                              1\n",
       " 0  Equatorial Diameter:                       6,792 km\n",
       " 1       Polar Diameter:                       6,752 km\n",
       " 2                 Mass:  6.39 × 10^23 kg (0.11 Earths)\n",
       " 3                Moons:            2 (Phobos & Deimos)\n",
       " 4       Orbit Distance:       227,943,824 km (1.38 AU)\n",
       " 5         Orbit Period:           687 days (1.9 years)\n",
       " 6  Surface Temperature:                   -87 to -5 °C\n",
       " 7         First Record:              2nd millennium BC\n",
       " 8          Recorded By:           Egyptian astronomers]"
      ]
     },
     "execution_count": 11,
     "metadata": {},
     "output_type": "execute_result"
    }
   ],
   "source": [
    "# Use pandas to scrape the table containing facts about Mars\n",
    "facts_url = 'https://space-facts.com/mars/'\n",
    "tables = pd.read_html(facts_url)\n",
    "tables"
   ]
  },
  {
   "cell_type": "code",
   "execution_count": 12,
   "id": "iraqi-yeast",
   "metadata": {},
   "outputs": [
    {
     "data": {
      "text/html": [
       "<div>\n",
       "<style scoped>\n",
       "    .dataframe tbody tr th:only-of-type {\n",
       "        vertical-align: middle;\n",
       "    }\n",
       "\n",
       "    .dataframe tbody tr th {\n",
       "        vertical-align: top;\n",
       "    }\n",
       "\n",
       "    .dataframe thead th {\n",
       "        text-align: right;\n",
       "    }\n",
       "</style>\n",
       "<table border=\"1\" class=\"dataframe\">\n",
       "  <thead>\n",
       "    <tr style=\"text-align: right;\">\n",
       "      <th></th>\n",
       "      <th>Attributes</th>\n",
       "      <th>Facts</th>\n",
       "    </tr>\n",
       "  </thead>\n",
       "  <tbody>\n",
       "    <tr>\n",
       "      <th>0</th>\n",
       "      <td>Equatorial Diameter:</td>\n",
       "      <td>6,792 km</td>\n",
       "    </tr>\n",
       "    <tr>\n",
       "      <th>1</th>\n",
       "      <td>Polar Diameter:</td>\n",
       "      <td>6,752 km</td>\n",
       "    </tr>\n",
       "    <tr>\n",
       "      <th>2</th>\n",
       "      <td>Mass:</td>\n",
       "      <td>6.39 × 10^23 kg (0.11 Earths)</td>\n",
       "    </tr>\n",
       "    <tr>\n",
       "      <th>3</th>\n",
       "      <td>Moons:</td>\n",
       "      <td>2 (Phobos &amp; Deimos)</td>\n",
       "    </tr>\n",
       "    <tr>\n",
       "      <th>4</th>\n",
       "      <td>Orbit Distance:</td>\n",
       "      <td>227,943,824 km (1.38 AU)</td>\n",
       "    </tr>\n",
       "    <tr>\n",
       "      <th>5</th>\n",
       "      <td>Orbit Period:</td>\n",
       "      <td>687 days (1.9 years)</td>\n",
       "    </tr>\n",
       "    <tr>\n",
       "      <th>6</th>\n",
       "      <td>Surface Temperature:</td>\n",
       "      <td>-87 to -5 °C</td>\n",
       "    </tr>\n",
       "    <tr>\n",
       "      <th>7</th>\n",
       "      <td>First Record:</td>\n",
       "      <td>2nd millennium BC</td>\n",
       "    </tr>\n",
       "    <tr>\n",
       "      <th>8</th>\n",
       "      <td>Recorded By:</td>\n",
       "      <td>Egyptian astronomers</td>\n",
       "    </tr>\n",
       "  </tbody>\n",
       "</table>\n",
       "</div>"
      ],
      "text/plain": [
       "             Attributes                          Facts\n",
       "0  Equatorial Diameter:                       6,792 km\n",
       "1       Polar Diameter:                       6,752 km\n",
       "2                 Mass:  6.39 × 10^23 kg (0.11 Earths)\n",
       "3                Moons:            2 (Phobos & Deimos)\n",
       "4       Orbit Distance:       227,943,824 km (1.38 AU)\n",
       "5         Orbit Period:           687 days (1.9 years)\n",
       "6  Surface Temperature:                   -87 to -5 °C\n",
       "7         First Record:              2nd millennium BC\n",
       "8          Recorded By:           Egyptian astronomers"
      ]
     },
     "execution_count": 12,
     "metadata": {},
     "output_type": "execute_result"
    }
   ],
   "source": [
    "# Change column headers\n",
    "df = tables[0]\n",
    "df = df.rename(columns={0: 'Attributes', 1: 'Facts'})\n",
    "df"
   ]
  },
  {
   "cell_type": "code",
   "execution_count": 13,
   "id": "quality-inside",
   "metadata": {},
   "outputs": [],
   "source": [
    "# Convert the dataframe to html\n",
    "df.to_html('table.html', index=False, justify='left')"
   ]
  },
  {
   "cell_type": "markdown",
   "id": "marked-handle",
   "metadata": {},
   "source": [
    "### Mars Hemispheres"
   ]
  },
  {
   "cell_type": "code",
   "execution_count": 21,
   "id": "tough-wrestling",
   "metadata": {},
   "outputs": [],
   "source": [
    "# Navigate browser\n",
    "hem_url = 'https://astrogeology.usgs.gov/search/results?q=hemisphere+enhanced&k1=target&v1=Mars'\n",
    "browser.visit(hem_url)"
   ]
  },
  {
   "cell_type": "markdown",
   "id": "derived-council",
   "metadata": {},
   "source": [
    "Obtain URLs of high resolution images for each of Mar's 4 hemispheres."
   ]
  },
  {
   "cell_type": "code",
   "execution_count": 23,
   "id": "controlled-hypothesis",
   "metadata": {},
   "outputs": [],
   "source": [
    "hem_html = browser.html\n",
    "soup_hem = bs(hem_html, 'html.parser')"
   ]
  },
  {
   "cell_type": "code",
   "execution_count": 26,
   "id": "removed-limitation",
   "metadata": {
    "scrolled": true
   },
   "outputs": [
    {
     "name": "stdout",
     "output_type": "stream",
     "text": [
      "-------------\n",
      "Hemisphere 1's title and URL retrived...\n",
      "-------------\n",
      "Hemisphere 2's title and URL retrived...\n",
      "-------------\n",
      "Hemisphere 3's title and URL retrived...\n",
      "-------------\n",
      "Hemisphere 4's title and URL retrived...\n"
     ]
    }
   ],
   "source": [
    "# Create an empty list to append dictionaries\n",
    "hemisphere_image_urls = []\n",
    "\n",
    "# Find divs\n",
    "hems = soup_hem.find_all('div', class_='description')\n",
    "\n",
    "counter = 1\n",
    "\n",
    "for hem in hems:\n",
    "    # Scrape hemisphere names\n",
    "    title = hem.a.text.replace(' Enhanced', '')\n",
    "    \n",
    "    # Use Splinter to click into each listed hemisphere to get high resolution image URL\n",
    "    url_enhanced = 'https://astrogeology.usgs.gov' + hem.a['href']\n",
    "    \n",
    "    browser.visit(url_enhanced)\n",
    "    enhanced_html = browser.html\n",
    "    soup_enhanced = bs(enhanced_html, 'html.parser')\n",
    "\n",
    "    # Get URL\n",
    "    src_url = soup_enhanced.find('img', class_='wide-image')['src']\n",
    "    image_url = 'https://astrogeology.usgs.gov' + src_url\n",
    "    \n",
    "    print('-------------')\n",
    "    print(f'Hemisphere {counter}\\'s title and URL retrived...')\n",
    "    \n",
    "    counter += 1\n",
    "    \n",
    "    # Update list to create a list of dictionaries\n",
    "    hemisphere_image_urls.append(\n",
    "        {'title': title,\n",
    "         'image_url': image_url\n",
    "        }\n",
    "    )\n"
   ]
  },
  {
   "cell_type": "code",
   "execution_count": 27,
   "id": "spiritual-penny",
   "metadata": {},
   "outputs": [
    {
     "name": "stdout",
     "output_type": "stream",
     "text": [
      "[{'title': 'Cerberus Hemisphere', 'image_url': 'https://astrogeology.usgs.gov/cache/images/f5e372a36edfa389625da6d0cc25d905_cerberus_enhanced.tif_full.jpg'}, {'title': 'Schiaparelli Hemisphere', 'image_url': 'https://astrogeology.usgs.gov/cache/images/3778f7b43bbbc89d6e3cfabb3613ba93_schiaparelli_enhanced.tif_full.jpg'}, {'title': 'Syrtis Major Hemisphere', 'image_url': 'https://astrogeology.usgs.gov/cache/images/555e6403a6ddd7ba16ddb0e471cadcf7_syrtis_major_enhanced.tif_full.jpg'}, {'title': 'Valles Marineris Hemisphere', 'image_url': 'https://astrogeology.usgs.gov/cache/images/b3c7c6c9138f57b4756be9b9c43e3a48_valles_marineris_enhanced.tif_full.jpg'}]\n"
     ]
    }
   ],
   "source": [
    "# Check if dictionary has all the info needed\n",
    "print(hemisphere_image_urls)"
   ]
  },
  {
   "cell_type": "code",
   "execution_count": null,
   "id": "straight-impossible",
   "metadata": {},
   "outputs": [],
   "source": []
  },
  {
   "cell_type": "code",
   "execution_count": null,
   "id": "extended-grocery",
   "metadata": {},
   "outputs": [],
   "source": []
  },
  {
   "cell_type": "code",
   "execution_count": 18,
   "id": "precise-norman",
   "metadata": {},
   "outputs": [],
   "source": [
    "# browser.quit()"
   ]
  }
 ],
 "metadata": {
  "kernelspec": {
   "display_name": "Python [conda env:PythonData] *",
   "language": "python",
   "name": "conda-env-PythonData-py"
  },
  "language_info": {
   "codemirror_mode": {
    "name": "ipython",
    "version": 3
   },
   "file_extension": ".py",
   "mimetype": "text/x-python",
   "name": "python",
   "nbconvert_exporter": "python",
   "pygments_lexer": "ipython3",
   "version": "3.6.10"
  }
 },
 "nbformat": 4,
 "nbformat_minor": 5
}
